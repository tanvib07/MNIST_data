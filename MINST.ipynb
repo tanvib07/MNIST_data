{
 "cells": [
  {
   "cell_type": "code",
   "execution_count": 1,
   "metadata": {},
   "outputs": [],
   "source": [
    "import numpy as np\n",
    "import tensorflow as tf\n",
    "import tensorflow_datasets as tfds"
   ]
  },
  {
   "cell_type": "code",
   "execution_count": 2,
   "metadata": {},
   "outputs": [
    {
     "name": "stderr",
     "output_type": "stream",
     "text": [
      "WARNING:absl:Warning: Setting shuffle_files=True because split=TRAIN and shuffle_files=None. This behavior will be deprecated on 2019-08-06, at which point shuffle_files=False will be the default for all splits.\n"
     ]
    }
   ],
   "source": [
    "data, data_info = tfds.load(name='mnist', with_info=True, as_supervised=True)"
   ]
  },
  {
   "cell_type": "code",
   "execution_count": 3,
   "metadata": {},
   "outputs": [],
   "source": [
    "train, test = data['train'], data['test']       #train test variables\n",
    "\n",
    "num_validation_data = 0.1 * data_info.splits['train'].num_examples    #creating validation dataset out-of train set\n",
    "num_validation_data = tf.cast(num_validation_data, tf.int64)\n",
    "\n",
    "test_sample = data_info.splits['test'].num_examples \n",
    "test_sample = tf.cast(test_sample, tf.int64)\n",
    "\n",
    "def scale(image,label):                         #scaling function\n",
    "    image = tf.cast(image,tf.float64)\n",
    "    image /= 255.\n",
    "    return image,label\n",
    "\n",
    "scaled_train_data = train.map(scale)   #scaling train set\n",
    "scaled_test_data = test.map(scale)     #scaling test set\n",
    "\n",
    "#shuffling the data for better learning\n",
    "\n",
    "buffer_size = 10000\n",
    "\n",
    "shuffled_train_data = scaled_train_data.shuffle(buffer_size)\n",
    "\n",
    "validation_data = shuffled_train_data.take(num_validation_data)\n",
    "train_data = shuffled_train_data.skip(num_validation_data)\n",
    "\n",
    "#batch size if 1 the SGD stocastic gradient descent\n",
    "#batch size if n where 'n' is full set size the it is GD\n",
    "#if batch size is in between i.e. 1 < batch_size < n , then its mini-GD \n",
    "BATCH_SIZE = 100\n",
    "\n",
    "train_data = train_data.batch(BATCH_SIZE)        \n",
    "validation_data = validation_data.batch(num_validation_data)\n",
    "test_data = scaled_test_data.batch(test_sample)\n",
    "\n",
    "#only train data is splitted into batch as validation set propagates forward as 1whole batch \n",
    "\n",
    "validation_inputs, validation_targets = next(iter(validation_data))"
   ]
  },
  {
   "cell_type": "markdown",
   "metadata": {},
   "source": [
    "#### Model"
   ]
  },
  {
   "cell_type": "markdown",
   "metadata": {},
   "source": [
    "Outline of the model"
   ]
  },
  {
   "cell_type": "code",
   "execution_count": 4,
   "metadata": {},
   "outputs": [],
   "source": [
    "input_size = 784         #as every num img size is 28*28 \n",
    "output_size = 10         #as there are 10 digits 0 to 9\n",
    "hidden_layer_size = 50   #choosed by us\n",
    "\n",
    "\n",
    "model = tf.keras.Sequential([\n",
    "                             tf.keras.layers.Flatten(input_shape=(28,28,1)),\n",
    "                             tf.keras.layers.Dense(hidden_layer_size, activation='relu'),  #1st hidden laayer\n",
    "                             tf.keras.layers.Dense(hidden_layer_size, activation='relu'),  #2nd hidden layer\n",
    "                             tf.keras.layers.Dense(output_size, activation='softmax')         #output layer\n",
    "                            ])"
   ]
  },
  {
   "cell_type": "markdown",
   "metadata": {},
   "source": [
    "Choosing optimizer and loss function"
   ]
  },
  {
   "cell_type": "code",
   "execution_count": 5,
   "metadata": {},
   "outputs": [],
   "source": [
    "\"\"\"Types of loss func:\n",
    "1] binary_crossentropy - used when the target data is binary\n",
    "2] categorical_crossentropy - it needs the target data to be one hot encoded\n",
    "3] sparse_categorical_crossentropy - it itself applies one hot encoding to the target data\n",
    "\"\"\"\n",
    "model.compile(optimizer='adam', loss='sparse_categorical_crossentropy', metrics=['accuracy'])"
   ]
  },
  {
   "cell_type": "markdown",
   "metadata": {},
   "source": [
    "#### Training"
   ]
  },
  {
   "cell_type": "code",
   "execution_count": 6,
   "metadata": {},
   "outputs": [
    {
     "name": "stdout",
     "output_type": "stream",
     "text": [
      "Epoch 1/10\n",
      "540/540 - 3s - loss: 0.4153 - accuracy: 0.8827 - val_loss: 0.2255 - val_accuracy: 0.9397\n",
      "Epoch 2/10\n",
      "540/540 - 3s - loss: 0.1816 - accuracy: 0.9481 - val_loss: 0.1835 - val_accuracy: 0.9488\n",
      "Epoch 3/10\n",
      "540/540 - 2s - loss: 0.1421 - accuracy: 0.9588 - val_loss: 0.1503 - val_accuracy: 0.9555\n",
      "Epoch 4/10\n",
      "540/540 - 2s - loss: 0.1164 - accuracy: 0.9656 - val_loss: 0.1362 - val_accuracy: 0.9585\n",
      "Epoch 5/10\n",
      "540/540 - 2s - loss: 0.0972 - accuracy: 0.9707 - val_loss: 0.1152 - val_accuracy: 0.9663\n",
      "Epoch 6/10\n",
      "540/540 - 3s - loss: 0.0852 - accuracy: 0.9744 - val_loss: 0.0985 - val_accuracy: 0.9717\n",
      "Epoch 7/10\n",
      "540/540 - 3s - loss: 0.0724 - accuracy: 0.9783 - val_loss: 0.0889 - val_accuracy: 0.9713\n",
      "Epoch 8/10\n",
      "540/540 - 3s - loss: 0.0664 - accuracy: 0.9800 - val_loss: 0.0846 - val_accuracy: 0.9747\n",
      "Epoch 9/10\n",
      "540/540 - 2s - loss: 0.0600 - accuracy: 0.9820 - val_loss: 0.0768 - val_accuracy: 0.9758\n",
      "Epoch 10/10\n",
      "540/540 - 3s - loss: 0.0544 - accuracy: 0.9831 - val_loss: 0.0642 - val_accuracy: 0.9778\n"
     ]
    },
    {
     "data": {
      "text/plain": [
       "<tensorflow.python.keras.callbacks.History at 0x17e28700208>"
      ]
     },
     "execution_count": 6,
     "metadata": {},
     "output_type": "execute_result"
    }
   ],
   "source": [
    "num_epochs = 10\n",
    "\n",
    "model.fit(train_data, epochs=num_epochs, validation_data=(validation_inputs, validation_targets), validation_steps=1, verbose=2)"
   ]
  },
  {
   "cell_type": "markdown",
   "metadata": {},
   "source": [
    "#### Testing"
   ]
  },
  {
   "cell_type": "code",
   "execution_count": 7,
   "metadata": {},
   "outputs": [
    {
     "name": "stdout",
     "output_type": "stream",
     "text": [
      "      1/Unknown - 1s 512ms/step - loss: 0.0969 - accuracy: 0.9713"
     ]
    }
   ],
   "source": [
    "loss, accuracy = model.evaluate(test_data)"
   ]
  },
  {
   "cell_type": "code",
   "execution_count": 8,
   "metadata": {},
   "outputs": [
    {
     "name": "stdout",
     "output_type": "stream",
     "text": [
      "Test loss = 0.10 , Test accuracy = 97.13%\n"
     ]
    }
   ],
   "source": [
    "print(\"Test loss = {0:.2f} , Test accuracy = {1:.2f}%\".format(loss, accuracy*100))"
   ]
  },
  {
   "cell_type": "code",
   "execution_count": null,
   "metadata": {},
   "outputs": [],
   "source": []
  }
 ],
 "metadata": {
  "kernelspec": {
   "display_name": "Python 3",
   "language": "python",
   "name": "python3"
  },
  "language_info": {
   "codemirror_mode": {
    "name": "ipython",
    "version": 3
   },
   "file_extension": ".py",
   "mimetype": "text/x-python",
   "name": "python",
   "nbconvert_exporter": "python",
   "pygments_lexer": "ipython3",
   "version": "3.7.7"
  }
 },
 "nbformat": 4,
 "nbformat_minor": 2
}
